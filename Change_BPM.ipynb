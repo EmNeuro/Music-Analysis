{
  "nbformat": 4,
  "nbformat_minor": 0,
  "metadata": {
    "colab": {
      "name": "Change_BPM.ipynb",
      "provenance": [],
      "include_colab_link": true
    },
    "kernelspec": {
      "name": "python3",
      "display_name": "Python 3"
    },
    "language_info": {
      "name": "python"
    }
  },
  "cells": [
    {
      "cell_type": "markdown",
      "metadata": {
        "id": "view-in-github",
        "colab_type": "text"
      },
      "source": [
        "<a href=\"https://colab.research.google.com/github/EmNeuro/Music-Analysis/blob/main/Change_BPM.ipynb\" target=\"_parent\"><img src=\"https://colab.research.google.com/assets/colab-badge.svg\" alt=\"Open In Colab\"/></a>"
      ]
    },
    {
      "cell_type": "markdown",
      "source": [
        "Demo test to change BPM using librosa and pyrubberband"
      ],
      "metadata": {
        "id": "wS6HXvw3JcZm"
      }
    },
    {
      "cell_type": "code",
      "execution_count": null,
      "metadata": {
        "colab": {
          "base_uri": "https://localhost:8080/"
        },
        "id": "vwqtx4q7F34i",
        "outputId": "9882e1e5-3c7f-4445-bd9a-07e6b4b1d7fb"
      },
      "outputs": [
        {
          "output_type": "stream",
          "name": "stdout",
          "text": [
            "Requirement already satisfied: pyrubberband in /usr/local/lib/python3.7/dist-packages (0.3.0)\n",
            "Requirement already satisfied: pysoundfile>=0.8.0 in /usr/local/lib/python3.7/dist-packages (from pyrubberband) (0.9.0.post1)\n",
            "Requirement already satisfied: six in /usr/local/lib/python3.7/dist-packages (from pyrubberband) (1.15.0)\n",
            "Requirement already satisfied: cffi>=0.6 in /usr/local/lib/python3.7/dist-packages (from pysoundfile>=0.8.0->pyrubberband) (1.15.0)\n",
            "Requirement already satisfied: pycparser in /usr/local/lib/python3.7/dist-packages (from cffi>=0.6->pysoundfile>=0.8.0->pyrubberband) (2.21)\n",
            "Reading package lists... Done\n",
            "Building dependency tree       \n",
            "Reading state information... Done\n",
            "rubberband-cli is already the newest version (1.8.1-7ubuntu2).\n",
            "The following package was automatically installed and is no longer required:\n",
            "  libnvidia-common-470\n",
            "Use 'sudo apt autoremove' to remove it.\n",
            "0 upgraded, 0 newly installed, 0 to remove and 39 not upgraded.\n",
            "Drive already mounted at /content/drive; to attempt to forcibly remount, call drive.mount(\"/content/drive\", force_remount=True).\n"
          ]
        }
      ],
      "source": [
        "#import\n",
        "!pip install pyrubberband\n",
        "!sudo apt-get install -y rubberband-cli\n",
        "import pyrubberband as pyr\n",
        "import librosa\n",
        "from IPython.display import Audio\n",
        "import IPython.display as ipd\n",
        "from google.colab import drive\n",
        "drive.mount('/content/drive')\n"
      ]
    },
    {
      "cell_type": "code",
      "source": [
        "# -t .75 -p 1 wav '/content/drive/MyDrive/Revised_Nov_2021_EK/Med_Stim/NeurosityShift-Ambient2A125bpmhighval,midenrgyMedstim.m4a.wav' '/content/drive/MyDrive/Revised_Nov_2021_EK/Med_Stim/NeurosityShift-Ambient2A125bpmhighval,midenrgyMedstim.m4a_t.75p.1.wav'\n",
        "#(y, sr, rate, rbargs=None)\n",
        "\n",
        "#set path to .wav file\n",
        "wav ='/content/drive/MyDrive/Revised_Nov_2021_EK/Med_Stim/NeurosityShift-Ambient2A125bpmhighval,midenrgyMedstim.m4a.wav'\n",
        "y, sr = librosa.load(wav)\n",
        "tempo_reduced = pyr.time_stretch(y=y, sr=sr, rate=.75, rbargs=None) #reduces tempo by .25% (.5 wouldn't play)\n",
        "tempo_increased= pyr.time_stretch(y=y, sr=sr, rate=1.5, rbargs=None) #increases tempo by 50%"
      ],
      "metadata": {
        "id": "YsYqjEXIGOUI"
      },
      "execution_count": null,
      "outputs": []
    },
    {
      "cell_type": "code",
      "source": [
        "ipd.Audio(y , rate=sr) #origional track"
      ],
      "metadata": {
        "id": "KczGVy4RiILz"
      },
      "execution_count": null,
      "outputs": []
    },
    {
      "cell_type": "code",
      "source": [
        "ipd.Audio(tempo_reduced, rate=sr) #reduced bpm track"
      ],
      "metadata": {
        "id": "VSxMQIu3ieGx"
      },
      "execution_count": null,
      "outputs": []
    },
    {
      "cell_type": "code",
      "source": [
        "ipd.Audio(tempo_increased, rate=sr) #increased bpm track"
      ],
      "metadata": {
        "id": "95YhYGqarUjw"
      },
      "execution_count": null,
      "outputs": []
    }
  ]
}