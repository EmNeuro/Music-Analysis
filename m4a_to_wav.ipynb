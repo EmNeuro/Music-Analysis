{
  "nbformat": 4,
  "nbformat_minor": 0,
  "metadata": {
    "colab": {
      "name": "m4a_to_wav.ipynb",
      "provenance": []
    },
    "kernelspec": {
      "name": "python3",
      "display_name": "Python 3"
    },
    "language_info": {
      "name": "python"
    }
  },
  "cells": [
    {
      "cell_type": "markdown",
      "source": [
        "Import libraries and install ffmpeg which colab didn't have.\n",
        "Mount and drive. "
      ],
      "metadata": {
        "id": "4PzjNcxtBMAC"
      }
    },
    {
      "cell_type": "code",
      "source": [
        "import os\n",
        "!pip install ffmpeg\n",
        "import ffmpeg\n",
        "import subprocess\n",
        "from google.colab import drive\n",
        "drive.mount('/content/drive')"
      ],
      "metadata": {
        "colab": {
          "base_uri": "https://localhost:8080/"
        },
        "id": "1rQY0JAdBPdh",
        "outputId": "8f1404f0-a349-45de-b01d-ae052700b1d1"
      },
      "execution_count": 36,
      "outputs": [
        {
          "output_type": "stream",
          "name": "stdout",
          "text": [
            "Requirement already satisfied: ffmpeg in /usr/local/lib/python3.7/dist-packages (1.4)\n",
            "Drive already mounted at /content/drive; to attempt to forcibly remount, call drive.mount(\"/content/drive\", force_remount=True).\n"
          ]
        }
      ]
    },
    {
      "cell_type": "markdown",
      "source": [
        "Set up directory."
      ],
      "metadata": {
        "id": "K4a7Im1Or4q4"
      }
    },
    {
      "cell_type": "code",
      "source": [
        "folder='/content/drive/MyDrive/Revised_Nov_2021_EK/Med_Stim/'"
      ],
      "metadata": {
        "id": "HynEYI_MBpHi"
      },
      "execution_count": 37,
      "outputs": []
    },
    {
      "cell_type": "markdown",
      "source": [
        "Check file names."
      ],
      "metadata": {
        "id": "pGke_ME3sCji"
      }
    },
    {
      "cell_type": "code",
      "source": [
        "for track in os.listdir(folder):\n",
        "    m4a = os.path.join(folder, track)\n",
        "    # checking if it is a file\n",
        "    if os.path.isfile(m4a):\n",
        "        print(track)"
      ],
      "metadata": {
        "colab": {
          "base_uri": "https://localhost:8080/"
        },
        "id": "KWz98vItDWag",
        "outputId": "fe8a7944-81a6-4d23-b0f2-9d21f6bc7f12"
      },
      "execution_count": 45,
      "outputs": [
        {
          "output_type": "stream",
          "name": "stdout",
          "text": [
            "NeurosityShift-Ambient2A125bpmhighval,midenrgyMedstim.m4a\n",
            "NeurosityShift-Ambient1.2A125bpmloval,hienMedStim.m4a\n",
            "NeurosityShift-Lofi3125CHighValMedEnMedStimV2.1.m4a\n",
            "NeurosityShift-Lofi4125CMedValLowEnMedStimV2.1.m4a\n",
            "NeurosityShift-Cinematic2.1A125bpmhighval,midengyMedStimv2.1.m4a\n",
            "NeurosityShift-PostRock1CmedvalenceNeurosity125MedStimv2.m4a\n",
            "NeurosityShift-LofiFocus1LowValence100bpmCMedStimV2.1.m4a\n",
            "NeurosityShift-GroovesShift2.1A125bpmhighval,midenrgyMedStimV2.m4a\n",
            "NeurosityShift-Ambeint3125LowValMedEnMedStimV2.2.m4a\n",
            "NeurosityShift-Grooves3A125bpmhighvalhighenrgyMedStimv3.m4a\n",
            "NeurosityShift-PostRock2v2C-125,LowVal,MedEn,MedStimV2.2.m4a\n",
            "NeurosityShift-Lofi2C-62bpmMedVal,LowEnMedStimv2.m4a\n",
            "NeurosityShift-Electronic3highvalence125MedStimV2.m4a\n",
            "NeurosityShift-GroovesShift1.4A115bpmhighval,highenrgy-fixedwaveform,MedStim.m4a\n",
            "NeurosityShift-Electronic1A-125bpm,midvalence,highenergyMedstim.m4a\n",
            "NeurosityShift-Cinematic1125CLowValHiEnMedStimV2.2.m4a\n",
            "NeurosityShift-Electronic4125CMedStimV2.m4a\n",
            "NeurosityShift-Ambient2125CMedValMedEnMedStimv2.m4a\n",
            "NeurosityShift-PostRock3CLowvalenceNeurosity125MedStimV2.2.m4a\n",
            "NeurosityShift-Cinematic1.5A125bpmmidv,mideMedStimV2.1.m4a\n"
          ]
        }
      ]
    },
    {
      "cell_type": "markdown",
      "source": [
        "Remove spaces from track name."
      ],
      "metadata": {
        "id": "HFri66RsrzQx"
      }
    },
    {
      "cell_type": "code",
      "source": [
        "\n",
        "for track in os.listdir(folder):\n",
        "  m4a = os.path.join(folder, track)\n",
        "  r = track.replace(\" \",\"\")\n",
        "  if( r != track):\n",
        "    os.rename(m4a, folder+r)\n",
        "  else:\n",
        "    print('no tracks with spaces found')\n",
        "       "
      ],
      "metadata": {
        "id": "klPQd2MUPB_r"
      },
      "execution_count": 44,
      "outputs": []
    },
    {
      "cell_type": "markdown",
      "source": [
        "Convert all mp3 files in folder to wav file."
      ],
      "metadata": {
        "id": "p1VSC6OGwqom"
      }
    },
    {
      "cell_type": "code",
      "source": [
        "for track in os.listdir(folder):\n",
        "  m4a = os.path.join(folder, track)\n",
        "    # checking if it is a file\n",
        "  if os.path.isfile(m4a):\n",
        "    subprocess.run('ffmpeg -i %s %s.wav'%(m4a, m4a),shell=True)\n",
        "  else:\n",
        "    print(m4a)\n",
        "    print(\"not a file?\")\n"
      ],
      "metadata": {
        "id": "69gSPOzfTd9h"
      },
      "execution_count": 56,
      "outputs": []
    }
  ]
}