{
  "nbformat": 4,
  "nbformat_minor": 0,
  "metadata": {
    "colab": {
      "name": "convert_m4a_to_wav.ipynb",
      "provenance": [],
      "authorship_tag": "ABX9TyPnH7kMu+IwY/49+b5cgUp3",
      "include_colab_link": true
    },
    "kernelspec": {
      "name": "python3",
      "display_name": "Python 3"
    },
    "language_info": {
      "name": "python"
    }
  },
  "cells": [
    {
      "cell_type": "markdown",
      "metadata": {
        "id": "view-in-github",
        "colab_type": "text"
      },
      "source": [
        "<a href=\"https://colab.research.google.com/github/EmNeuro/Music-Analysis/blob/main/convert_m4a_to_wav.ipynb\" target=\"_parent\"><img src=\"https://colab.research.google.com/assets/colab-badge.svg\" alt=\"Open In Colab\"/></a>"
      ]
    },
    {
      "cell_type": "markdown",
      "source": [
        "Import libraries and install ffmpeg which colab didn't have.\n",
        "Mount and drive. "
      ],
      "metadata": {
        "id": "4PzjNcxtBMAC"
      }
    },
    {
      "cell_type": "code",
      "source": [
        "import os\n",
        "!pip install ffmpeg\n",
        "import ffmpeg\n",
        "import subprocess\n",
        "from google.colab import drive\n",
        "drive.mount('/content/drive')"
      ],
      "metadata": {
        "colab": {
          "base_uri": "https://localhost:8080/"
        },
        "id": "1rQY0JAdBPdh",
        "outputId": "4cda690e-6590-493b-e69a-376424396d79"
      },
      "execution_count": 2,
      "outputs": [
        {
          "output_type": "stream",
          "name": "stdout",
          "text": [
            "Collecting ffmpeg\n",
            "  Downloading ffmpeg-1.4.tar.gz (5.1 kB)\n",
            "Building wheels for collected packages: ffmpeg\n",
            "  Building wheel for ffmpeg (setup.py) ... \u001b[?25l\u001b[?25hdone\n",
            "  Created wheel for ffmpeg: filename=ffmpeg-1.4-py3-none-any.whl size=6084 sha256=e78614f4eb50e51079e97dbce26db16a6dfe9cc1e8c2f8d1031185560c08503a\n",
            "  Stored in directory: /root/.cache/pip/wheels/64/80/6e/caa3e16deb0267c3cbfd36862058a724144e19fdb9eb03af0f\n",
            "Successfully built ffmpeg\n",
            "Installing collected packages: ffmpeg\n",
            "Successfully installed ffmpeg-1.4\n",
            "Mounted at /content/drive\n"
          ]
        }
      ]
    },
    {
      "cell_type": "markdown",
      "source": [
        "Set up directory."
      ],
      "metadata": {
        "id": "K4a7Im1Or4q4"
      }
    },
    {
      "cell_type": "code",
      "source": [
        "#folder='/content/drive/MyDrive/Revised_Nov_2021_EK/Med_Stim/'\n",
        "folder='/content/drive/MyDrive/Original_tracks/'\n"
      ],
      "metadata": {
        "id": "HynEYI_MBpHi"
      },
      "execution_count": null,
      "outputs": []
    },
    {
      "cell_type": "markdown",
      "source": [
        "Check file names."
      ],
      "metadata": {
        "id": "pGke_ME3sCji"
      }
    },
    {
      "cell_type": "code",
      "source": [
        "for track in os.listdir(folder):\n",
        "    m4a = os.path.join(folder, track)\n",
        "    # checking if it is a file\n",
        "    if os.path.isfile(m4a):\n",
        "        print(track)\n"
      ],
      "metadata": {
        "colab": {
          "base_uri": "https://localhost:8080/"
        },
        "id": "KWz98vItDWag",
        "outputId": "fc4cfe86-5b23-408f-f8a9-618e1fdd4b79"
      },
      "execution_count": null,
      "outputs": [
        {
          "output_type": "stream",
          "name": "stdout",
          "text": [
            "Neurosity Shift - Cinematic 2.1 A 125bpm 16.6hz saw, high val, mid engy.m4a\n",
            "Neurosity Shift - Ambient 2 A 125bpm 16.6hz saw, high val, mid enrgy.m4a\n",
            "Grooves 3 A 125bpm 16.6hz high val high enrgy - finalizing mix.m4a\n",
            "Neurosity Shift - Ambeint 3V2 125 Low Val Med En.m4a\n",
            "Neurosity Shift - Lofi 3 125 C High Val Med En Med Stim V2.1.m4a\n",
            "Electronic Shift 1 A - 125bpm, 16.6hz saw, mid valence, high energy.m4a\n",
            "Electronic Shift 1 A - 125bpm, 16.6hz saw, mid valence, high energy (1).m4a\n",
            "Neurosity Shift - Lofi 4 125 C Med Val Low En.m4a\n",
            "Neurosity Shift - Electronic 3 high valence 126V2.m4a\n",
            "Neurosity Shift - Cinematic 1v2 125 C Low Val Hi En.m4a\n",
            "Lofi Focus 1V2 C - 105, 14, saw, low val, low energy, Neurosity.mp3\n",
            "Post Rock 1.2 C med valence Neurosity 125.mp3\n",
            "Neurosity Shift - Grooves 3 A 125bpm high val high enrgy Med Stim v3.m4a\n",
            "Neurosity Shift - Ambient 2v3 125 C Med Val Low En.m4a\n",
            "Neurosity Shift - Cinematic 1.5 A 125bpm 16.6hz saw, mid v, mid e.m4a\n",
            "Neurosity Shift - Lofi 2 C - 62, 16.53, Saw, Med Val, Low En.mp3\n",
            "Neurosity Shift - Electronic 4 125 C.m4a\n",
            "Neurosity Shift - Post Rock 3 125 C Med Val Low En.m4a\n",
            "Grooves Shift 1.3 A 115bpm 15.3hz saw, high val, high enrgy.m4a\n",
            "Neurosity Shift - Electronic 1 A - 125bpm, mid valence, high energy Med stim.m4a\n",
            "Neurosity Shift - Cinematic 1.5 A 125bpm mid v, mid e Med Stim V2.1.m4a\n",
            "Neurosity Shift - Post Rock 2v4 C - 125, Low Val, Med En.mp3\n",
            "Neurosity Shift - Ambient-Electric 1.1 A 125bpm 16.6hz saw, lo val, hi en.m4a\n",
            "Neurosity Shift - Lofi 3V2 115 C High Val Med En.m4a\n",
            "Grooves Shift 2.1 A 125bpm 16.6hz saw, high val, mid enrgy - finalixing mix II.m4a\n"
          ]
        }
      ]
    },
    {
      "cell_type": "markdown",
      "source": [
        "Remove spaces from track name."
      ],
      "metadata": {
        "id": "HFri66RsrzQx"
      }
    },
    {
      "cell_type": "code",
      "source": [
        "\n",
        "for track in os.listdir(folder):\n",
        "  m4a = os.path.join(folder, track)\n",
        "  r = track.replace(\" \",\"\")\n",
        "  if( r != track):\n",
        "    os.rename(m4a, folder+r)\n",
        "  else:\n",
        "    print('no tracks with spaces found')\n",
        "       "
      ],
      "metadata": {
        "id": "klPQd2MUPB_r"
      },
      "execution_count": null,
      "outputs": []
    },
    {
      "cell_type": "markdown",
      "source": [
        "Convert all m4a files in folder to wav file."
      ],
      "metadata": {
        "id": "p1VSC6OGwqom"
      }
    },
    {
      "cell_type": "code",
      "source": [
        "for track in os.listdir(folder):\n",
        "  m4a = os.path.join(folder, track)\n",
        "    # checking if it is a file\n",
        "  if os.path.isfile(m4a):\n",
        "    subprocess.run('ffmpeg -i %s %s.wav'%(m4a, m4a),shell=True)\n",
        "  else:\n",
        "    print(m4a)\n",
        "    print(\"not a file?\")\n"
      ],
      "metadata": {
        "id": "69gSPOzfTd9h"
      },
      "execution_count": null,
      "outputs": []
    },
    {
      "cell_type": "markdown",
      "source": [
        "Change one .mp3 file to .wav"
      ],
      "metadata": {
        "id": "kY3tDFJSUFg7"
      }
    },
    {
      "cell_type": "code",
      "source": [
        "\n",
        "mp3 = '/content/drive/MyDrive/Red_Hot_Chili_Peppers_-_Californication.mp3'\n",
        "  # checking if it is a file\n",
        "#if os.path.isfile(mp3):\n",
        "subprocess.run('ffmpeg -i %s %s.wav'%(mp3, mp3),shell=True)\n"
      ],
      "metadata": {
        "colab": {
          "base_uri": "https://localhost:8080/"
        },
        "id": "VkkAJbbtS4EK",
        "outputId": "fd365f96-6273-4226-8a85-9b04dee4c556"
      },
      "execution_count": 3,
      "outputs": [
        {
          "output_type": "execute_result",
          "data": {
            "text/plain": [
              "CompletedProcess(args='ffmpeg -i /content/drive/MyDrive/Red_Hot_Chili_Peppers_-_Californication.mp3 /content/drive/MyDrive/Red_Hot_Chili_Peppers_-_Californication.mp3.wav', returncode=0)"
            ]
          },
          "metadata": {},
          "execution_count": 3
        }
      ]
    }
  ]
}